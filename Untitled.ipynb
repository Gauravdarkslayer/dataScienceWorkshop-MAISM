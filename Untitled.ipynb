{
 "cells": [
  {
   "cell_type": "markdown",
   "metadata": {},
   "source": [
    "# list \n",
    "\n",
    "#### list is collection of homogenous or hetrogenous objects \n",
    "\n",
    "##### homegenous means collection similar objects\n",
    "##### hetrogenous means collection one or more mixed type objects\n",
    "\n",
    "\n",
    "# Array\n",
    "\n",
    "##### array is collection of homogenous data types \n",
    "\n",
    "* all arrays are list but all lists are not arrays"
   ]
  },
  {
   "cell_type": "code",
   "execution_count": null,
   "metadata": {},
   "outputs": [],
   "source": []
  }
 ],
 "metadata": {
  "kernelspec": {
   "display_name": "Python 3",
   "language": "python",
   "name": "python3"
  },
  "language_info": {
   "codemirror_mode": {
    "name": "ipython",
    "version": 3
   },
   "file_extension": ".py",
   "mimetype": "text/x-python",
   "name": "python",
   "nbconvert_exporter": "python",
   "pygments_lexer": "ipython3",
   "version": "3.7.1"
  }
 },
 "nbformat": 4,
 "nbformat_minor": 2
}
