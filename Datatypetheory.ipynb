{
 "cells": [
  {
   "cell_type": "markdown",
   "metadata": {},
   "source": [
    "# list \n",
    "\n",
    "#### list is collection of homogenous or hetrogenous objects \n",
    "\n",
    "##### homegenous means collection similar objects\n",
    "##### hetrogenous means collection one or more mixed type objects\n",
    "\n",
    "\n",
    "# Array\n",
    "\n",
    "##### array is collection of homogenous data types \n",
    "\n",
    "* all arrays are list but all lists are not arrays"
   ]
  },
  {
   "cell_type": "markdown",
   "metadata": {},
   "source": [
    "# Operations on List \n",
    "\n",
    "### To add objects to list \n",
    "* list.append(object)     --> add object at the end into list\n",
    "* list.insert(loc,object) --> add object at the index loc into list \n",
    "* list.extend(iterable)   --> will iterate each item and add items at the end one by one \n",
    "\n",
    "### To remove objects from list \n",
    "* list.pop()          --> reverse of append, will delete last object of list\n",
    "* list.pop(loc)       --> will remove object from index loc\n",
    "* list.remove(object) --> will delete first occurence of object from list, if object is not in list then will raise error \n",
    "\n",
    "### Common Operations \n",
    "* list.sort()    --> will sort list in ascending order (list should be homogenous)\n",
    "* list.reverse() --> will reverse list inplace\n",
    "* list.index(object) --> will return index loc of object if it is in list, else raise error\n",
    "* list.count(object) --> will count occurence of object list \n",
    "* list.copy() --> will return copy of list \n",
    "* list.clear() --> will remove all items from list \n"
   ]
  },
  {
   "cell_type": "markdown",
   "metadata": {},
   "source": [
    "## Sets"
   ]
  },
  {
   "cell_type": "markdown",
   "metadata": {},
   "source": [
    "### Set functions\n",
    "<ol>\n",
    "    <li>.add()</li>\n",
    "    <li>.clear()</li>\n",
    "    <li>.union()</li>\n",
    "    <li>.intersection()</li>\n",
    "    <li>.pop()</li>\n",
    "    <li>And much more these are most common</li>\n",
    "</ol>\n",
    "    \n",
    "##### Note:- you can take help from jupyter notebook of any functions. USING command SHIFT+TAB    "
   ]
  },
  {
   "cell_type": "markdown",
   "metadata": {},
   "source": [
    "# Tuple\n",
    "##### Immutable\n",
    "##### Ordered/indexed\n",
    "<br>\n",
    "<p>tuple functions/methods</p>\n",
    "<ul>\n",
    "    <li>.count()</li>\n",
    "    <li>.clear()</li>\n",
    "</ul>    "
   ]
  },
  {
   "cell_type": "markdown",
   "metadata": {},
   "source": [
    "# Dictionary\n",
    "##### key, value pairs\n",
    "<ol>\n",
    "    <li>.keys()</li>\n",
    "    <li>.values()</li>\n",
    "    <li>.get()</li>\n",
    "    </ol>\n",
    "<p>\n",
    "    Now you have to find out that the difference between .get(keyname) and \n",
    "        dict[keyName]\n",
    "</p>    "
   ]
  },
  {
   "cell_type": "code",
   "execution_count": 4,
   "metadata": {},
   "outputs": [],
   "source": []
  },
  {
   "cell_type": "markdown",
   "metadata": {},
   "source": [
    "# String"
   ]
  },
  {
   "cell_type": "markdown",
   "metadata": {},
   "source": [
    "<ol>\n",
    "    <li>.capitalize</li>\n",
    "    <li>.casefold</li>\n",
    "    <li>.upper</li>\n",
    "    <li>.lower</li>\n",
    "    <li>.replace</li>\n",
    "    <li>And much more</li>\n",
    "</ol>\n",
    "    \n",
    "   <ul>\n",
    "    <li>Strings are sliceble as lists</li>\n",
    "    </ul>"
   ]
  },
  {
   "cell_type": "code",
   "execution_count": null,
   "metadata": {},
   "outputs": [],
   "source": []
  },
  {
   "cell_type": "code",
   "execution_count": null,
   "metadata": {},
   "outputs": [],
   "source": []
  }
 ],
 "metadata": {
  "kernelspec": {
   "display_name": "Python 3",
   "language": "python",
   "name": "python3"
  },
  "language_info": {
   "codemirror_mode": {
    "name": "ipython",
    "version": 3
   },
   "file_extension": ".py",
   "mimetype": "text/x-python",
   "name": "python",
   "nbconvert_exporter": "python",
   "pygments_lexer": "ipython3",
   "version": "3.7.1"
  }
 },
 "nbformat": 4,
 "nbformat_minor": 2
}
